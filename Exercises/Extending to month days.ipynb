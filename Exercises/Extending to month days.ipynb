{
 "cells": [
  {
   "cell_type": "markdown",
   "metadata": {},
   "source": [
    "# Extending to month days"
   ]
  },
  {
   "cell_type": "markdown",
   "metadata": {},
   "source": [
    "Consider the following structure:\n",
    "\n",
    "|Monday|Tuesday|Wednesday|Thursday|Friday|Saturday|Sunday|\n",
    "|-|-|-|-|-|-|-|\n",
    "|1|2|3|4|5|6|7|\n",
    "|8|9|10|11|12|13|14|\n",
    "\n",
    "We want to get the English name for each number in this table; for this, we may use the modulo operator to get the day number starting from 1 to 7."
   ]
  },
  {
   "cell_type": "code",
   "execution_count": 7,
   "metadata": {},
   "outputs": [],
   "source": [
    "interface NumToDayConverter {\n",
    "    String getDayFromNum(int num);\n",
    "}"
   ]
  },
  {
   "cell_type": "code",
   "execution_count": 28,
   "metadata": {},
   "outputs": [],
   "source": [
    "class NumToDayConverterImpl implements NumToDayConverter {\n",
    "    @Override\n",
    "    public String getDayFromNum(int num) {\n",
    "        var weekday = num % 7;\n",
    "        \n",
    "        switch (weekday) {\n",
    "            case 0: return \"Sunday\";\n",
    "            case 1: return \"Monday\";\n",
    "            case 2: return \"Tuesday\";\n",
    "            case 3: return \"Wednesday\";\n",
    "            case 4: return \"Thursday\";\n",
    "            case 5: return \"Friday\";\n",
    "            case 6: return \"Saturday\";\n",
    "        }\n",
    "        \n",
    "        return \"\";\n",
    "    }\n",
    "}"
   ]
  },
  {
   "cell_type": "code",
   "execution_count": 23,
   "metadata": {},
   "outputs": [],
   "source": [
    "NumToDayConverter numToDayConverter = new NumToDayConverterImpl()"
   ]
  },
  {
   "cell_type": "code",
   "execution_count": 24,
   "metadata": {},
   "outputs": [
    {
     "data": {
      "text/plain": [
       "Monday"
      ]
     },
     "execution_count": 24,
     "metadata": {},
     "output_type": "execute_result"
    }
   ],
   "source": [
    "numToDayConverter.getDayFromNum(1)"
   ]
  },
  {
   "cell_type": "code",
   "execution_count": 25,
   "metadata": {},
   "outputs": [
    {
     "data": {
      "text/plain": [
       "Monday"
      ]
     },
     "execution_count": 25,
     "metadata": {},
     "output_type": "execute_result"
    }
   ],
   "source": [
    "numToDayConverter.getDayFromNum(8)"
   ]
  },
  {
   "cell_type": "code",
   "execution_count": 30,
   "metadata": {},
   "outputs": [
    {
     "data": {
      "text/plain": [
       "Sunday"
      ]
     },
     "execution_count": 30,
     "metadata": {},
     "output_type": "execute_result"
    }
   ],
   "source": [
    "numToDayConverter.getDayFromNum(7)"
   ]
  },
  {
   "cell_type": "code",
   "execution_count": 31,
   "metadata": {},
   "outputs": [
    {
     "data": {
      "text/plain": [
       "Sunday"
      ]
     },
     "execution_count": 31,
     "metadata": {},
     "output_type": "execute_result"
    }
   ],
   "source": [
    "numToDayConverter.getDayFromNum(14)"
   ]
  }
 ],
 "metadata": {
  "kernelspec": {
   "display_name": "Java",
   "language": "java",
   "name": "java"
  },
  "language_info": {
   "codemirror_mode": "java",
   "file_extension": ".jshell",
   "mimetype": "text/x-java-source",
   "name": "Java",
   "pygments_lexer": "java",
   "version": "13.0.2+8"
  }
 },
 "nbformat": 4,
 "nbformat_minor": 4
}
