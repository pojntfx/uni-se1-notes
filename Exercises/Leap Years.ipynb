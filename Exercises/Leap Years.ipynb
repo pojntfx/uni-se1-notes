{
 "cells": [
  {
   "cell_type": "markdown",
   "metadata": {},
   "source": [
    "# Leap Years"
   ]
  },
  {
   "cell_type": "markdown",
   "metadata": {},
   "source": [
    "One may calculate whether a year is a common year or a leap year by using the following algorithm:\n",
    "\n",
    "```plaintext\n",
    "if year is not divisible by 4 then it is a common year\n",
    "else if year is not divisible by 100 then it is a leap year\n",
    "else if year is not divisible by 400 then it is a common year\n",
    "else it is a leap year\n",
    "```\n",
    "\n",
    "Let's implement that!"
   ]
  },
  {
   "cell_type": "code",
   "execution_count": 15,
   "metadata": {},
   "outputs": [],
   "source": [
    "interface LeapYearUtils {\n",
    "    boolean isLeapYear(int year);\n",
    "}"
   ]
  },
  {
   "cell_type": "code",
   "execution_count": 6,
   "metadata": {},
   "outputs": [],
   "source": [
    "class LeapYearUtilsImpl implements LeapYearUtils {\n",
    "    public boolean isLeapYear(int year) {\n",
    "        if (year % 4 != 0) {\n",
    "            return false;\n",
    "        } else if (year % 100 != 0) {\n",
    "            return true;\n",
    "        } else if (year % 400 != 0) {\n",
    "            return false;\n",
    "        }\n",
    "\n",
    "        return true;\n",
    "    }\n",
    "}"
   ]
  },
  {
   "cell_type": "code",
   "execution_count": 9,
   "metadata": {},
   "outputs": [],
   "source": [
    "LeapYearUtils leapYearUtils = new LeapYearUtilsImpl()"
   ]
  },
  {
   "cell_type": "code",
   "execution_count": 10,
   "metadata": {},
   "outputs": [
    {
     "data": {
      "text/plain": [
       "true"
      ]
     },
     "execution_count": 10,
     "metadata": {},
     "output_type": "execute_result"
    }
   ],
   "source": [
    "leapYearUtils.isLeapYear(2020)"
   ]
  },
  {
   "cell_type": "code",
   "execution_count": 11,
   "metadata": {},
   "outputs": [
    {
     "data": {
      "text/plain": [
       "false"
      ]
     },
     "execution_count": 11,
     "metadata": {},
     "output_type": "execute_result"
    }
   ],
   "source": [
    "leapYearUtils.isLeapYear(2021)"
   ]
  },
  {
   "cell_type": "code",
   "execution_count": 12,
   "metadata": {},
   "outputs": [
    {
     "data": {
      "text/plain": [
       "false"
      ]
     },
     "execution_count": 12,
     "metadata": {},
     "output_type": "execute_result"
    }
   ],
   "source": [
    "leapYearUtils.isLeapYear(2022)"
   ]
  },
  {
   "cell_type": "code",
   "execution_count": 13,
   "metadata": {},
   "outputs": [
    {
     "data": {
      "text/plain": [
       "false"
      ]
     },
     "execution_count": 13,
     "metadata": {},
     "output_type": "execute_result"
    }
   ],
   "source": [
    "leapYearUtils.isLeapYear(2023)"
   ]
  },
  {
   "cell_type": "code",
   "execution_count": 14,
   "metadata": {},
   "outputs": [
    {
     "data": {
      "text/plain": [
       "true"
      ]
     },
     "execution_count": 14,
     "metadata": {},
     "output_type": "execute_result"
    }
   ],
   "source": [
    "leapYearUtils.isLeapYear(2024)"
   ]
  }
 ],
 "metadata": {
  "kernelspec": {
   "display_name": "Java",
   "language": "java",
   "name": "java"
  },
  "language_info": {
   "codemirror_mode": "java",
   "file_extension": ".jshell",
   "mimetype": "text/x-java-source",
   "name": "Java",
   "pygments_lexer": "java",
   "version": "13.0.2+8"
  }
 },
 "nbformat": 4,
 "nbformat_minor": 4
}
