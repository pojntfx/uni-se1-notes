{
 "cells": [
  {
   "cell_type": "markdown",
   "metadata": {},
   "source": [
    "# C vs. Java"
   ]
  },
  {
   "cell_type": "code",
   "execution_count": 4,
   "metadata": {},
   "outputs": [
    {
     "ename": "CompilationException",
     "evalue": "",
     "output_type": "error",
     "traceback": [
      "\u001b[1m\u001b[30m|   \u001b[1m\u001b[30mvelocity = \u001b[0m\u001b[1m\u001b[30m\u001b[41mmeasure\u001b[0m\u001b[1m\u001b[30m;\u001b[0m",
      "\u001b[1m\u001b[31mincompatible types: possible lossy conversion from double to short\u001b[0m",
      ""
     ]
    }
   ],
   "source": [
    "double measure = 65234.5435;\n",
    "\n",
    "short velocity;\n",
    "\n",
    "velocity = measure;\n",
    "\n",
    "System.out.printf(\"Velocity = %d\\n\", velocity)"
   ]
  },
  {
   "cell_type": "markdown",
   "metadata": {},
   "source": [
    "As we can see, Java notices this, unlike many C compilers:\n",
    "\n",
    "```c\n",
    "#include <stdio.h>\n",
    "\n",
    "void main(void) {\n",
    "  double measure = 65234.5435;\n",
    "  short velocity;\n",
    "  velocity = measure;\n",
    "  printf(\"Velocity=%d\\n\", velocity);\n",
    "}\n",
    "```"
   ]
  },
  {
   "cell_type": "markdown",
   "metadata": {},
   "source": [
    "It can be done with type casting though:"
   ]
  },
  {
   "cell_type": "code",
   "execution_count": 5,
   "metadata": {},
   "outputs": [
    {
     "name": "stdout",
     "output_type": "stream",
     "text": [
      "Velocity = -302\n"
     ]
    },
    {
     "data": {
      "text/plain": [
       "java.io.PrintStream@596fc06c"
      ]
     },
     "execution_count": 5,
     "metadata": {},
     "output_type": "execute_result"
    }
   ],
   "source": [
    "double measure = 65234.5435;\n",
    "\n",
    "short velocity;\n",
    "\n",
    "velocity = (short) measure;\n",
    "\n",
    "System.out.printf(\"Velocity = %d\\n\", velocity)"
   ]
  }
 ],
 "metadata": {
  "kernelspec": {
   "display_name": "Java",
   "language": "java",
   "name": "java"
  },
  "language_info": {
   "codemirror_mode": "java",
   "file_extension": ".jshell",
   "mimetype": "text/x-java-source",
   "name": "Java",
   "pygments_lexer": "java",
   "version": "13.0.2+8"
  }
 },
 "nbformat": 4,
 "nbformat_minor": 4
}
