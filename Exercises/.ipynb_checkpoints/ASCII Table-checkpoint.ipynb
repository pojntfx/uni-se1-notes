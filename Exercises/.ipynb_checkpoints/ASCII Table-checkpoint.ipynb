{
 "cells": [
  {
   "cell_type": "markdown",
   "metadata": {},
   "source": [
    "# ASCII Table"
   ]
  },
  {
   "cell_type": "code",
   "execution_count": 10,
   "metadata": {},
   "outputs": [],
   "source": [
    "public class Mapping {\n",
    "    private char key;\n",
    "    \n",
    "    public Mapping(Character key) {\n",
    "        this.key = key;\n",
    "    }\n",
    "    \n",
    "    public char getKey() {\n",
    "        return this.key;\n",
    "    }\n",
    "    \n",
    "    public int getValue() {\n",
    "        return (int) this.key;\n",
    "    }\n",
    "}"
   ]
  },
  {
   "cell_type": "code",
   "execution_count": 11,
   "metadata": {},
   "outputs": [],
   "source": [
    "Collection<Mapping> mappings = Arrays.asList(\n",
    "    new Mapping(' '),\n",
    "    new Mapping('!'),\n",
    "    new Mapping('\"'),\n",
    "    new Mapping('#'),\n",
    "    new Mapping('$'),\n",
    "    new Mapping('%'),\n",
    "    new Mapping('&')\n",
    ")"
   ]
  },
  {
   "cell_type": "code",
   "execution_count": 13,
   "metadata": {},
   "outputs": [
    {
     "name": "stdout",
     "output_type": "stream",
     "text": [
      " : 32\n",
      "!: 33\n",
      "\": 34\n",
      "#: 35\n",
      "$: 36\n",
      "%: 37\n",
      "&: 38\n"
     ]
    }
   ],
   "source": [
    "mappings.stream().forEach(\n",
    "    mapping -> System.out.println(String.format(\"%s: %d\", mapping.getKey(), mapping.getValue()))\n",
    ")"
   ]
  }
 ],
 "metadata": {
  "kernelspec": {
   "display_name": "Java",
   "language": "java",
   "name": "java"
  },
  "language_info": {
   "codemirror_mode": "java",
   "file_extension": ".jshell",
   "mimetype": "text/x-java-source",
   "name": "Java",
   "pygments_lexer": "java",
   "version": "13.0.2+8"
  }
 },
 "nbformat": 4,
 "nbformat_minor": 4
}
