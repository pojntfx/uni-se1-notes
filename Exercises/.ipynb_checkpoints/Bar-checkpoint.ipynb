{
 "cells": [
  {
   "cell_type": "markdown",
   "metadata": {},
   "source": [
    "# At the bar"
   ]
  },
  {
   "cell_type": "code",
   "execution_count": 30,
   "metadata": {},
   "outputs": [],
   "source": [
    "class Bar {\n",
    "    static String processInput() {\n",
    "        try (final var scanner = new Scanner(System.in)) {\n",
    "            var menu = String.format(\"On offer: \\n\\t1=Beer\\n\\t2=Orange juice\\n\\nYour choice:>\");\n",
    "            \n",
    "            System.out.print(menu);\n",
    "            \n",
    "            var in = scanner.nextInt();\n",
    "            \n",
    "            if (in == 1) {\n",
    "                System.out.print(\"Your age:\");\n",
    "                \n",
    "                try (final var scanner2 = new Scanner(System.in)) {\n",
    "                    var age = scanner2.nextInt();\n",
    "                \n",
    "                    if (age < 18) {\n",
    "                        return \"You're too young for that.\";\n",
    "                    }\n",
    "                }\n",
    "                \n",
    "                return \"OK\";\n",
    "            } else {\n",
    "                if (in > 2) {\n",
    "                    return \"Invalid choice.\";\n",
    "                }\n",
    "                \n",
    "                return \"OK\";\n",
    "            }\n",
    "        }\n",
    "    }\n",
    "}"
   ]
  },
  {
   "cell_type": "code",
   "execution_count": 33,
   "metadata": {},
   "outputs": [
    {
     "name": "stdout",
     "output_type": "stream",
     "text": [
      "On offer: \n",
      "\t1=Beer\n",
      "\t2=Orange juice\n",
      "\n",
      "Your choice:>"
     ]
    },
    {
     "name": "stdin",
     "output_type": "stream",
     "text": [
      " 2\n"
     ]
    },
    {
     "data": {
      "text/plain": [
       "OK"
      ]
     },
     "execution_count": 33,
     "metadata": {},
     "output_type": "execute_result"
    }
   ],
   "source": [
    "Bar.processInput()"
   ]
  }
 ],
 "metadata": {
  "kernelspec": {
   "display_name": "Java",
   "language": "java",
   "name": "java"
  },
  "language_info": {
   "codemirror_mode": "java",
   "file_extension": ".jshell",
   "mimetype": "text/x-java-source",
   "name": "Java",
   "pygments_lexer": "java",
   "version": "13.0.2+8"
  }
 },
 "nbformat": 4,
 "nbformat_minor": 4
}
