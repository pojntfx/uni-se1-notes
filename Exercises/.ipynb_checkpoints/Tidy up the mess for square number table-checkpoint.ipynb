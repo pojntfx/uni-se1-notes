{
 "cells": [
  {
   "cell_type": "markdown",
   "metadata": {},
   "source": [
    "# Tidy up the mess (square number table)"
   ]
  },
  {
   "cell_type": "markdown",
   "metadata": {},
   "source": [
    "We want the following output:\n",
    "\n",
    "```plaintext\n",
    " n | n * n\n",
    "---+------\n",
    "  0|     0\n",
    "  1|     1\n",
    "...\n",
    "  8|    64\n",
    "  9|    81\n",
    " 10|   100\n",
    " 11|   121\n",
    "...\n",
    " 19|   361\n",
    " 20|   400\n",
    "```\n",
    "\n",
    "Let's implement this."
   ]
  },
  {
   "cell_type": "code",
   "execution_count": 35,
   "metadata": {},
   "outputs": [],
   "source": [
    "interface TidiedSquareNumberTable {\n",
    "    String getTable(int upperLimit);\n",
    "}"
   ]
  },
  {
   "cell_type": "code",
   "execution_count": 61,
   "metadata": {},
   "outputs": [],
   "source": [
    "class TidiedSquareNumberTableImpl implements TidiedSquareNumberTable {\n",
    "    @Override\n",
    "    public String getTable(int upperLimit) {\n",
    "        var header = \"n  |  n * n\\n---+-------\";\n",
    "        \n",
    "        var bodyParts = new ArrayList<String>();\n",
    "        for (var i = 0; i < upperLimit + 1; i++) {          \n",
    "            bodyParts.add(String.format(\"%3s|%7s%s\", i, i * i, i == upperLimit ? \"\" : \"\\n\"));\n",
    "        }\n",
    "        \n",
    "        return String.format(\"%s\\n%s\\n\", header, String.join(\"\", bodyParts));\n",
    "    }\n",
    "}"
   ]
  },
  {
   "cell_type": "code",
   "execution_count": 62,
   "metadata": {},
   "outputs": [],
   "source": [
    "TidiedSquareNumberTable squareNumberTable = new TidiedSquareNumberTableImpl()"
   ]
  },
  {
   "cell_type": "code",
   "execution_count": 63,
   "metadata": {},
   "outputs": [
    {
     "data": {
      "text/plain": [
       "n  |  n * n\n",
       "---+-------\n",
       "  0|      0\n",
       "  1|      1\n",
       "  2|      4\n",
       "  3|      9\n",
       "  4|     16\n",
       "  5|     25\n",
       "  6|     36\n",
       "  7|     49\n",
       "  8|     64\n",
       "  9|     81\n",
       " 10|    100\n",
       " 11|    121\n",
       " 12|    144\n",
       " 13|    169\n",
       " 14|    196\n",
       " 15|    225\n",
       " 16|    256\n",
       " 17|    289\n",
       " 18|    324\n",
       " 19|    361\n",
       " 20|    400\n"
      ]
     },
     "execution_count": 63,
     "metadata": {},
     "output_type": "execute_result"
    }
   ],
   "source": [
    "squareNumberTable.getTable(20)"
   ]
  }
 ],
 "metadata": {
  "kernelspec": {
   "display_name": "Java",
   "language": "java",
   "name": "java"
  },
  "language_info": {
   "codemirror_mode": "java",
   "file_extension": ".jshell",
   "mimetype": "text/x-java-source",
   "name": "Java",
   "pygments_lexer": "java",
   "version": "13.0.2+8"
  }
 },
 "nbformat": 4,
 "nbformat_minor": 4
}
