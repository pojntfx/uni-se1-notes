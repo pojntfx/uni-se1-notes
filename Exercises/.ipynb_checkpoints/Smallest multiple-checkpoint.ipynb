{
 "cells": [
  {
   "cell_type": "markdown",
   "metadata": {},
   "source": [
    "# Smallest multiple"
   ]
  },
  {
   "cell_type": "code",
   "execution_count": 1,
   "metadata": {},
   "outputs": [],
   "source": [
    "interface SmallestMultipleFinder {\n",
    "    int forRange(int lower, int higher);\n",
    "}"
   ]
  },
  {
   "cell_type": "code",
   "execution_count": 5,
   "metadata": {},
   "outputs": [],
   "source": [
    "class SmallestMultipleFinderImpl implements SmallestMultipleFinder {\n",
    "    @Override\n",
    "    public int forRange(int lower, int higher) {\n",
    "        var currentTry = 2;\n",
    "        \n",
    "        while (true) {           \n",
    "            for (int i = lower; i <= higher; i++) {               \n",
    "                if (currentTry % i == 0) {\n",
    "                    if (i == higher) {\n",
    "                        return currentTry;\n",
    "                    }\n",
    "\n",
    "                    continue;\n",
    "                }\n",
    "                \n",
    "                currentTry++;\n",
    "\n",
    "                break;\n",
    "            }\n",
    "        }\n",
    "    }\n",
    "}"
   ]
  },
  {
   "cell_type": "code",
   "execution_count": 6,
   "metadata": {},
   "outputs": [],
   "source": [
    "SmallestMultipleFinder smallestMultipleFinder = new SmallestMultipleFinderImpl()"
   ]
  },
  {
   "cell_type": "code",
   "execution_count": 4,
   "metadata": {},
   "outputs": [
    {
     "data": {
      "text/plain": [
       "232792560"
      ]
     },
     "execution_count": 4,
     "metadata": {},
     "output_type": "execute_result"
    }
   ],
   "source": [
    "smallestMultipleFinder.forRange(1, 20)"
   ]
  }
 ],
 "metadata": {
  "kernelspec": {
   "display_name": "Java",
   "language": "java",
   "name": "java"
  },
  "language_info": {
   "codemirror_mode": "java",
   "file_extension": ".jshell",
   "mimetype": "text/x-java-source",
   "name": "Java",
   "pygments_lexer": "java",
   "version": "13.0.2+8"
  }
 },
 "nbformat": 4,
 "nbformat_minor": 4
}
