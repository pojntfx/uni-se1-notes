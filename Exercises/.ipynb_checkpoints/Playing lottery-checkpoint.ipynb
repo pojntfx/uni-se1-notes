{
 "cells": [
  {
   "cell_type": "markdown",
   "metadata": {},
   "source": [
    "# Playing lottery"
   ]
  },
  {
   "cell_type": "markdown",
   "metadata": {},
   "source": [
    "We want to have the amount of possibilities for an amount of choices $k$ of a total amount $n$."
   ]
  },
  {
   "cell_type": "markdown",
   "metadata": {},
   "source": [
    "${n \\choose k} = {n! \\over k!(n-k)!}$"
   ]
  },
  {
   "cell_type": "markdown",
   "metadata": {},
   "source": [
    "This will lead to overflows, as calculating faculties can lead to very high numbers, so we use the following simplified form:"
   ]
  },
  {
   "cell_type": "markdown",
   "metadata": {},
   "source": [
    "${n \\choose k} = {n(n-1)...(n-k+1) \\over k(k-1)...1}$"
   ]
  },
  {
   "cell_type": "markdown",
   "metadata": {},
   "source": [
    "TODO: Add non-recursive implementation"
   ]
  }
 ],
 "metadata": {
  "kernelspec": {
   "display_name": "Java",
   "language": "java",
   "name": "java"
  },
  "language_info": {
   "codemirror_mode": "java",
   "file_extension": ".jshell",
   "mimetype": "text/x-java-source",
   "name": "Java",
   "pygments_lexer": "java",
   "version": "13.0.2+8"
  }
 },
 "nbformat": 4,
 "nbformat_minor": 4
}
