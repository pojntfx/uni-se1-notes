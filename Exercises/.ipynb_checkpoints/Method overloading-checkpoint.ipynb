{
 "cells": [
  {
   "cell_type": "markdown",
   "metadata": {},
   "source": [
    "# Method overloading"
   ]
  },
  {
   "cell_type": "code",
   "execution_count": 4,
   "metadata": {},
   "outputs": [],
   "source": [
    "interface Printer {\n",
    "    void write();\n",
    "    void write(int msg);\n",
    "    void write(double msg);\n",
    "    void write(String msg);\n",
    "}"
   ]
  },
  {
   "cell_type": "code",
   "execution_count": 17,
   "metadata": {},
   "outputs": [],
   "source": [
    "class PrinterImpl implements Printer {\n",
    "    @Override\n",
    "    public void write() {\n",
    "        System.out.println(\"\");\n",
    "    }\n",
    "    \n",
    "    @Override\n",
    "    public void write(int msg) {\n",
    "        System.out.println(String.format(\"Wrote %d\", Integer.valueOf(msg)));\n",
    "    }\n",
    "    \n",
    "    @Override\n",
    "    public void write(double msg) {\n",
    "        System.out.println(String.format(\"Wrote %d\", Double.valueOf(msg)));\n",
    "    }\n",
    "    \n",
    "    @Override\n",
    "    public void write(String msg) {\n",
    "        System.out.println(String.format(\"Wrote %s\", msg));\n",
    "    }\n",
    "}"
   ]
  },
  {
   "cell_type": "markdown",
   "metadata": {},
   "source": [
    "As you can see, one may overload the methods."
   ]
  }
 ],
 "metadata": {
  "kernelspec": {
   "display_name": "Java",
   "language": "java",
   "name": "java"
  },
  "language_info": {
   "codemirror_mode": "java",
   "file_extension": ".jshell",
   "mimetype": "text/x-java-source",
   "name": "Java",
   "pygments_lexer": "java",
   "version": "13.0.2+8"
  }
 },
 "nbformat": 4,
 "nbformat_minor": 4
}
