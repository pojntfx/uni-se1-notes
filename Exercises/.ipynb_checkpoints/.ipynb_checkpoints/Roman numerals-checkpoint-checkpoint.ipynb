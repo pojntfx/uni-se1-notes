{
 "cells": [
  {
   "cell_type": "markdown",
   "metadata": {},
   "source": [
    "# Roman Numerals"
   ]
  },
  {
   "cell_type": "code",
   "execution_count": 1,
   "metadata": {},
   "outputs": [],
   "source": [
    "var decNum = 1"
   ]
  },
  {
   "cell_type": "code",
   "execution_count": 4,
   "metadata": {},
   "outputs": [],
   "source": [
    "interface NumeralUtils {\n",
    "    String getRomanForDecimal(int dec) throws Exception;\n",
    "}"
   ]
  },
  {
   "cell_type": "code",
   "execution_count": 13,
   "metadata": {},
   "outputs": [],
   "source": [
    "class NumeralUtilsImpl implements NumeralUtils {\n",
    "    @Override\n",
    "    public String getRomanForDecimal(int dec) throws Exception {\n",
    "        switch (dec) {\n",
    "            case 1:\n",
    "                return \"I\";\n",
    "            case 2:\n",
    "                return \"II\";\n",
    "            case 3:\n",
    "                return \"III\";\n",
    "            case 4:\n",
    "                return \"IV\";\n",
    "            case 5:\n",
    "                return \"V\";\n",
    "            case 6:\n",
    "                return \"VI\";\n",
    "            case 7:\n",
    "                return \"VII\";\n",
    "            case 8:\n",
    "                return \"VIII\";\n",
    "            case 9:\n",
    "                return \"IX\";\n",
    "            case 10:\n",
    "                return \"X\";\n",
    "            default:\n",
    "                throw new Error(String.format(\"Decimal value %s not yet implemented\", dec));\n",
    "        }\n",
    "    }\n",
    "}"
   ]
  },
  {
   "cell_type": "code",
   "execution_count": 14,
   "metadata": {},
   "outputs": [],
   "source": [
    "NumeralUtils numeralUtils = new NumeralUtilsImpl()"
   ]
  },
  {
   "cell_type": "code",
   "execution_count": 15,
   "metadata": {},
   "outputs": [
    {
     "data": {
      "text/plain": [
       "I"
      ]
     },
     "execution_count": 15,
     "metadata": {},
     "output_type": "execute_result"
    }
   ],
   "source": [
    "numeralUtils.getRomanForDecimal(1)"
   ]
  },
  {
   "cell_type": "code",
   "execution_count": 16,
   "metadata": {},
   "outputs": [
    {
     "data": {
      "text/plain": [
       "II"
      ]
     },
     "execution_count": 16,
     "metadata": {},
     "output_type": "execute_result"
    }
   ],
   "source": [
    "numeralUtils.getRomanForDecimal(2)"
   ]
  },
  {
   "cell_type": "code",
   "execution_count": 17,
   "metadata": {},
   "outputs": [
    {
     "data": {
      "text/plain": [
       "X"
      ]
     },
     "execution_count": 17,
     "metadata": {},
     "output_type": "execute_result"
    }
   ],
   "source": [
    "numeralUtils.getRomanForDecimal(10)"
   ]
  },
  {
   "cell_type": "code",
   "execution_count": 18,
   "metadata": {},
   "outputs": [
    {
     "ename": "EvalException",
     "evalue": "Decimal value 11 not yet implemented",
     "output_type": "error",
     "traceback": [
      "\u001b[1m\u001b[31m---------------------------------------------------------------------------\u001b[0m",
      "\u001b[1m\u001b[31mjava.lang.Error: Decimal value 11 not yet implemented\u001b[0m",
      "\u001b[1m\u001b[31m\tat NumeralUtilsImpl.getRomanForDecimal(#14:26)\u001b[0m",
      "\u001b[1m\u001b[31m\tat .(#23:1)\u001b[0m"
     ]
    }
   ],
   "source": [
    "numeralUtils.getRomanForDecimal(11)"
   ]
  },
  {
   "cell_type": "code",
   "execution_count": 24,
   "metadata": {},
   "outputs": [],
   "source": [
    "interface NumeralREPL {\n",
    "    void setNumeralUtils(NumeralUtils numeralUtilsToSet);\n",
    "    void startREPL();\n",
    "}"
   ]
  },
  {
   "cell_type": "code",
   "execution_count": 35,
   "metadata": {},
   "outputs": [],
   "source": [
    "class NumeralREPLImpl implements NumeralREPL {\n",
    "    /* @Inject */ private NumeralUtils numeralUtils;\n",
    "    \n",
    "    public void setNumeralUtils(NumeralUtils numeralUtilsToSet) {\n",
    "        numeralUtils = numeralUtilsToSet;\n",
    "    }\n",
    "    \n",
    "    public void startREPL() {\n",
    "        while (true) {\n",
    "            System.out.printf(\"NumeralREPL> \");\n",
    "            \n",
    "            try (final var scanner = new Scanner(System.in)) {\n",
    "                var num = scanner.nextInt();\n",
    "\n",
    "                try {\n",
    "                    var roman = numeralUtils.getRomanForDecimal(num);\n",
    "                    \n",
    "                    System.out.printf(\"<= %s\\n\", roman);\n",
    "                } catch (Exception e) {\n",
    "                    System.out.printf(\"Error: %s\\n\", e.getMessage());\n",
    "                }\n",
    "            }\n",
    "        }\n",
    "    }\n",
    "}"
   ]
  },
  {
   "cell_type": "code",
   "execution_count": 36,
   "metadata": {},
   "outputs": [],
   "source": [
    "NumeralREPL repl = new NumeralREPLImpl()"
   ]
  },
  {
   "cell_type": "code",
   "execution_count": 37,
   "metadata": {},
   "outputs": [],
   "source": [
    "repl.setNumeralUtils(numeralUtils)"
   ]
  },
  {
   "cell_type": "code",
   "execution_count": 38,
   "metadata": {},
   "outputs": [
    {
     "name": "stdout",
     "output_type": "stream",
     "text": [
      "NumeralREPL> "
     ]
    },
    {
     "name": "stdin",
     "output_type": "stream",
     "text": [
      " 20\n"
     ]
    },
    {
     "ename": "EvalException",
     "evalue": "Decimal value 20 not yet implemented",
     "output_type": "error",
     "traceback": [
      "\u001b[1m\u001b[31m---------------------------------------------------------------------------\u001b[0m",
      "\u001b[1m\u001b[31mjava.lang.Error: Decimal value 20 not yet implemented\u001b[0m",
      "\u001b[1m\u001b[31m\tat NumeralUtilsImpl.getRomanForDecimal(#14:26)\u001b[0m",
      "\u001b[1m\u001b[31m\tat NumeralREPLImpl.startREPL(#26:16)\u001b[0m",
      "\u001b[1m\u001b[31m\tat .(#34:1)\u001b[0m"
     ]
    }
   ],
   "source": [
    "repl.startREPL()"
   ]
  }
 ],
 "metadata": {
  "kernelspec": {
   "display_name": "Java",
   "language": "java",
   "name": "java"
  },
  "language_info": {
   "codemirror_mode": "java",
   "file_extension": ".jshell",
   "mimetype": "text/x-java-source",
   "name": "Java",
   "pygments_lexer": "java",
   "version": "13.0.2+8"
  }
 },
 "nbformat": 4,
 "nbformat_minor": 4
}
