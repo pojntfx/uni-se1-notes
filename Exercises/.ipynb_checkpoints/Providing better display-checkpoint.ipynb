{
 "cells": [
  {
   "cell_type": "markdown",
   "metadata": {},
   "source": [
    "# Providing Better Display"
   ]
  },
  {
   "cell_type": "code",
   "execution_count": 2,
   "metadata": {},
   "outputs": [],
   "source": [
    "int a = -4"
   ]
  },
  {
   "cell_type": "code",
   "execution_count": 3,
   "metadata": {},
   "outputs": [],
   "source": [
    "int b = 100"
   ]
  },
  {
   "cell_type": "code",
   "execution_count": 4,
   "metadata": {},
   "outputs": [
    {
     "data": {
      "text/plain": [
       "-4+100=96"
      ]
     },
     "execution_count": 4,
     "metadata": {},
     "output_type": "execute_result"
    }
   ],
   "source": [
    "String.format(\"%s+%s=%s\", a, b, a + b)"
   ]
  },
  {
   "cell_type": "markdown",
   "metadata": {},
   "source": [
    "This works fine, but if we swap the sign output becomes weird."
   ]
  },
  {
   "cell_type": "code",
   "execution_count": 5,
   "metadata": {},
   "outputs": [],
   "source": [
    "a = 100"
   ]
  },
  {
   "cell_type": "code",
   "execution_count": 6,
   "metadata": {},
   "outputs": [],
   "source": [
    "b = -4"
   ]
  },
  {
   "cell_type": "code",
   "execution_count": 7,
   "metadata": {},
   "outputs": [
    {
     "data": {
      "text/plain": [
       "100+-4=96"
      ]
     },
     "execution_count": 7,
     "metadata": {},
     "output_type": "execute_result"
    }
   ],
   "source": [
    "String.format(\"%s+%s=%s\", a, b, a + b)"
   ]
  },
  {
   "cell_type": "markdown",
   "metadata": {},
   "source": [
    "In such a case, we can use an if statement to produce this instead: `100-4=96`"
   ]
  },
  {
   "cell_type": "code",
   "execution_count": 8,
   "metadata": {},
   "outputs": [
    {
     "name": "stdout",
     "output_type": "stream",
     "text": [
      "100-4=96\n"
     ]
    }
   ],
   "source": [
    "if (b < 0) {\n",
    "    System.out.println(String.format(\"%s%s=%s\", a, b, a + b));\n",
    "} else {\n",
    "    System.out.println(String.format(\"%s+%s=%s\", a, b, a + b));\n",
    "}"
   ]
  },
  {
   "cell_type": "markdown",
   "metadata": {},
   "source": [
    "Now, let's refactor."
   ]
  },
  {
   "cell_type": "code",
   "execution_count": 9,
   "metadata": {},
   "outputs": [],
   "source": [
    "interface ResultFormatter<A, B> {\n",
    "    abstract public String forAddition(A a, B b);\n",
    "}"
   ]
  },
  {
   "cell_type": "code",
   "execution_count": 10,
   "metadata": {},
   "outputs": [],
   "source": [
    "class ResultFormatterImpl implements ResultFormatter<Integer, Integer> {\n",
    "    @Override\n",
    "    public String forAddition(Integer a, Integer b) {\n",
    "        return String.format(\"%s%s%s=%s\", a, (b < 0) ? \"\" : \"+\", b, b + a);\n",
    "    }\n",
    "}"
   ]
  },
  {
   "cell_type": "code",
   "execution_count": 11,
   "metadata": {},
   "outputs": [],
   "source": [
    "final ResultFormatter resultFormatter = new ResultFormatterImpl();"
   ]
  },
  {
   "cell_type": "code",
   "execution_count": 12,
   "metadata": {},
   "outputs": [
    {
     "data": {
      "text/plain": [
       "1+2=3"
      ]
     },
     "execution_count": 12,
     "metadata": {},
     "output_type": "execute_result"
    }
   ],
   "source": [
    "resultFormatter.forAddition(1, 2)"
   ]
  },
  {
   "cell_type": "code",
   "execution_count": 13,
   "metadata": {},
   "outputs": [
    {
     "data": {
      "text/plain": [
       "-1+2=1"
      ]
     },
     "execution_count": 13,
     "metadata": {},
     "output_type": "execute_result"
    }
   ],
   "source": [
    "resultFormatter.forAddition(-1, 2)"
   ]
  },
  {
   "cell_type": "markdown",
   "metadata": {},
   "source": [
    "And here we go! Now, let's write a proper REPL for it."
   ]
  },
  {
   "cell_type": "code",
   "execution_count": 14,
   "metadata": {},
   "outputs": [],
   "source": [
    "interface REPL<T> {\n",
    "    void setLib(T lib);\n",
    "    void startLoop();\n",
    "}"
   ]
  },
  {
   "cell_type": "code",
   "execution_count": 15,
   "metadata": {},
   "outputs": [],
   "source": [
    "class ResultFormatterREPL implements REPL<ResultFormatter<Integer, Integer>> {\n",
    "    /* @Inject */ private ResultFormatter resultFormatter;\n",
    "    \n",
    "    @Override\n",
    "    public void setLib(ResultFormatter<Integer, Integer> formatter) {\n",
    "        resultFormatter = formatter;\n",
    "    }\n",
    "    \n",
    "    @Override\n",
    "    public void startLoop() {\n",
    "        while (true) {\n",
    "            System.out.printf(\"ResultFormatter> \");\n",
    "            \n",
    "            try (final var scanner = new Scanner(System.in)) {\n",
    "                var input = scanner.nextLine();\n",
    "                \n",
    "                var parts = input.split(\"(\\\\+|\\\\+\\\\-|\\\\-\\\\+)\");\n",
    "                              \n",
    "                try {\n",
    "                    var result = resultFormatter.forAddition(Integer.parseInt(parts[0]), Integer.parseInt(parts[1]));\n",
    "                    \n",
    "                    System.out.printf(\"<= %s\\n\", result);\n",
    "                } catch (Exception e) {\n",
    "                    System.out.printf(\"Error: %s\\n\", e.getMessage());\n",
    "                }\n",
    "            }\n",
    "        }\n",
    "    }\n",
    "}"
   ]
  },
  {
   "cell_type": "code",
   "execution_count": 16,
   "metadata": {},
   "outputs": [],
   "source": [
    "REPL repl = new ResultFormatterREPL();"
   ]
  },
  {
   "cell_type": "code",
   "execution_count": 17,
   "metadata": {},
   "outputs": [],
   "source": [
    "repl.setLib(resultFormatter)"
   ]
  },
  {
   "cell_type": "code",
   "execution_count": null,
   "metadata": {},
   "outputs": [
    {
     "name": "stdout",
     "output_type": "stream",
     "text": [
      "ResultFormatter> "
     ]
    },
    {
     "name": "stdin",
     "output_type": "stream",
     "text": [
      " 5+1\n"
     ]
    },
    {
     "name": "stdout",
     "output_type": "stream",
     "text": [
      "<= 5+1=6\n",
      "ResultFormatter> "
     ]
    },
    {
     "name": "stdin",
     "output_type": "stream",
     "text": [
      " 5-+1\n"
     ]
    },
    {
     "name": "stdout",
     "output_type": "stream",
     "text": [
      "<= 5+1=6\n",
      "ResultFormatter> "
     ]
    },
    {
     "name": "stdin",
     "output_type": "stream",
     "text": [
      " 5+-1\n"
     ]
    },
    {
     "name": "stdout",
     "output_type": "stream",
     "text": [
      "<= 5-1=4\n",
      "ResultFormatter> "
     ]
    }
   ],
   "source": [
    "repl.startLoop()"
   ]
  },
  {
   "cell_type": "code",
   "execution_count": null,
   "metadata": {},
   "outputs": [],
   "source": []
  }
 ],
 "metadata": {
  "kernelspec": {
   "display_name": "Java",
   "language": "java",
   "name": "java"
  },
  "language_info": {
   "codemirror_mode": "java",
   "file_extension": ".jshell",
   "mimetype": "text/x-java-source",
   "name": "Java",
   "pygments_lexer": "java",
   "version": "13.0.2+8"
  }
 },
 "nbformat": 4,
 "nbformat_minor": 4
}
