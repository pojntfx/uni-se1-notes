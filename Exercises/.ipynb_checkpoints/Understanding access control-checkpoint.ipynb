{
 "cells": [
  {
   "cell_type": "markdown",
   "metadata": {},
   "source": [
    "# Understanding Access Control "
   ]
  },
  {
   "cell_type": "code",
   "execution_count": 5,
   "metadata": {},
   "outputs": [],
   "source": [
    "class AccessControl {\n",
    "    private void callMeZero() {} // callable from a method of this class only\n",
    "    void callMeOne() {} // + callable from package\n",
    "    protected void callMeTwo() {} // + callable from a child class\n",
    "    public void callMeThree() {} // + callable from everywhere\n",
    "}"
   ]
  }
 ],
 "metadata": {
  "kernelspec": {
   "display_name": "Java",
   "language": "java",
   "name": "java"
  },
  "language_info": {
   "codemirror_mode": "java",
   "file_extension": ".jshell",
   "mimetype": "text/x-java-source",
   "name": "Java",
   "pygments_lexer": "java",
   "version": "13.0.2+8"
  }
 },
 "nbformat": 4,
 "nbformat_minor": 4
}
