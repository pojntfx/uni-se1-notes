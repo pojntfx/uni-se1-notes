{
 "cells": [
  {
   "cell_type": "markdown",
   "metadata": {},
   "source": [
    "# Converting day's names to numbers"
   ]
  },
  {
   "cell_type": "markdown",
   "metadata": {},
   "source": [
    "Take a look at the structure from \"Extending to month days\":\n",
    "\n",
    "|Monday|Tuesday|Wednesday|Thursday|Friday|Saturday|Sunday|\n",
    "|-|-|-|-|-|-|-|\n",
    "|1|2|3|4|5|6|7|\n",
    "|8|9|10|11|12|13|14|\n",
    "\n",
    "We now want to get the day num from the day name."
   ]
  },
  {
   "cell_type": "code",
   "execution_count": 1,
   "metadata": {},
   "outputs": [],
   "source": [
    "interface DayToNumConverter {\n",
    "    int getDayNumFromDayName(String name);\n",
    "}"
   ]
  },
  {
   "cell_type": "code",
   "execution_count": 9,
   "metadata": {},
   "outputs": [],
   "source": [
    "class DayToNumConverterImpl implements DayToNumConverter {\n",
    "    @Override\n",
    "    public int getDayNumFromDayName(String name) {        \n",
    "        switch (name) {\n",
    "            case \"Sunday\": return 0;\n",
    "            case \"Monday\": return 1;\n",
    "            case \"Tuesday\": return 2;\n",
    "            case \"Wednesday\": return 3;\n",
    "            case \"Thursday\": return 4;\n",
    "            case \"Friday\": return 5;\n",
    "            case \"Saturday\": return 6;\n",
    "        }\n",
    "        \n",
    "        return 0;\n",
    "    }\n",
    "}"
   ]
  },
  {
   "cell_type": "code",
   "execution_count": 6,
   "metadata": {},
   "outputs": [],
   "source": [
    "DayToNumConverter dayToNumConverter = new DayToNumConverterImpl()"
   ]
  },
  {
   "cell_type": "code",
   "execution_count": 7,
   "metadata": {},
   "outputs": [
    {
     "data": {
      "text/plain": [
       "1"
      ]
     },
     "execution_count": 7,
     "metadata": {},
     "output_type": "execute_result"
    }
   ],
   "source": [
    "dayToNumConverter.getDayNumFromDayName(\"Monday\")"
   ]
  },
  {
   "cell_type": "code",
   "execution_count": 19,
   "metadata": {},
   "outputs": [
    {
     "data": {
      "text/plain": [
       "2"
      ]
     },
     "execution_count": 19,
     "metadata": {},
     "output_type": "execute_result"
    }
   ],
   "source": [
    "dayToNumConverter.getDayNumFromDayName(\"Tuesday\")"
   ]
  },
  {
   "cell_type": "markdown",
   "metadata": {},
   "source": [
    "We can also ignore case:"
   ]
  },
  {
   "cell_type": "code",
   "execution_count": 12,
   "metadata": {},
   "outputs": [],
   "source": [
    "class DayToNumConverterIgnoreCaseImpl implements DayToNumConverter {\n",
    "    @Override\n",
    "    public int getDayNumFromDayName(String name) {\n",
    "        var lowercaseName = name.toLowerCase();\n",
    "        \n",
    "        switch (lowercaseName) {\n",
    "            case \"sunday\": return 0;\n",
    "            case \"monday\": return 1;\n",
    "            case \"tuesday\": return 2;\n",
    "            case \"wednesday\": return 3;\n",
    "            case \"thursday\": return 4;\n",
    "            case \"friday\": return 5;\n",
    "            case \"saturday\": return 6;\n",
    "        }\n",
    "        \n",
    "        return 0;\n",
    "    }\n",
    "}"
   ]
  },
  {
   "cell_type": "code",
   "execution_count": 13,
   "metadata": {},
   "outputs": [],
   "source": [
    "DayToNumConverter dayToNumConverterIgnoreCase = new DayToNumConverterIgnoreCaseImpl()"
   ]
  },
  {
   "cell_type": "code",
   "execution_count": 15,
   "metadata": {},
   "outputs": [
    {
     "data": {
      "text/plain": [
       "1"
      ]
     },
     "execution_count": 15,
     "metadata": {},
     "output_type": "execute_result"
    }
   ],
   "source": [
    "dayToNumConverterIgnoreCase.getDayNumFromDayName(\"Monday\")"
   ]
  },
  {
   "cell_type": "code",
   "execution_count": 16,
   "metadata": {},
   "outputs": [
    {
     "data": {
      "text/plain": [
       "1"
      ]
     },
     "execution_count": 16,
     "metadata": {},
     "output_type": "execute_result"
    }
   ],
   "source": [
    "dayToNumConverterIgnoreCase.getDayNumFromDayName(\"monday\")"
   ]
  },
  {
   "cell_type": "code",
   "execution_count": 17,
   "metadata": {},
   "outputs": [
    {
     "data": {
      "text/plain": [
       "1"
      ]
     },
     "execution_count": 17,
     "metadata": {},
     "output_type": "execute_result"
    }
   ],
   "source": [
    "dayToNumConverterIgnoreCase.getDayNumFromDayName(\"MONDAY\")"
   ]
  }
 ],
 "metadata": {
  "kernelspec": {
   "display_name": "Java",
   "language": "java",
   "name": "java"
  },
  "language_info": {
   "codemirror_mode": "java",
   "file_extension": ".jshell",
   "mimetype": "text/x-java-source",
   "name": "Java",
   "pygments_lexer": "java",
   "version": "13.0.2+8"
  }
 },
 "nbformat": 4,
 "nbformat_minor": 4
}
