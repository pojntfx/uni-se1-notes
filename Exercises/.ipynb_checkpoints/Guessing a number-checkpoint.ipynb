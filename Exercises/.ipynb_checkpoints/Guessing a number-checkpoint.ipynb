{
 "cells": [
  {
   "cell_type": "markdown",
   "metadata": {},
   "source": [
    "# Guessing a number"
   ]
  },
  {
   "cell_type": "markdown",
   "metadata": {},
   "source": [
    "We want to have a conversation like this:\n",
    "\n",
    "```plaintext\n",
    "Try to guess my secret number between 0 and 10:\n",
    "You have 5 attempts\n",
    "Input your guess:4\n",
    "Value is too low\n",
    "Input your guess:6\n",
    "Value is too high\n",
    "Input your guess:5\n",
    "Congratulations, you won!\n",
    "```\n",
    "\n",
    "Let's implement this!"
   ]
  },
  {
   "cell_type": "code",
   "execution_count": 43,
   "metadata": {},
   "outputs": [],
   "source": [
    "enum GuessResponse {\n",
    "    LEFT,\n",
    "    RIGHT,\n",
    "    CORRECT\n",
    "}"
   ]
  },
  {
   "cell_type": "code",
   "execution_count": 44,
   "metadata": {},
   "outputs": [],
   "source": [
    "interface NumberGuesser {\n",
    "    int getNumber();\n",
    "    GuessResponse checkGuess(int target, int input);\n",
    "}"
   ]
  },
  {
   "cell_type": "code",
   "execution_count": 48,
   "metadata": {},
   "outputs": [],
   "source": [
    "class NumberGuesserImpl implements NumberGuesser {\n",
    "    @Override\n",
    "    public int getNumber() {\n",
    "        return (int) (Math.random() * 10);\n",
    "    }\n",
    "    \n",
    "    @Override\n",
    "    public GuessResponse checkGuess(int target, int input) {\n",
    "        if (input > target) {\n",
    "            return GuessResponse.RIGHT;\n",
    "        }\n",
    "        \n",
    "        if (input < target) {\n",
    "            return GuessResponse.LEFT;\n",
    "        }\n",
    "        \n",
    "        return GuessResponse.CORRECT;\n",
    "    }\n",
    "}"
   ]
  },
  {
   "cell_type": "code",
   "execution_count": 52,
   "metadata": {},
   "outputs": [],
   "source": [
    "NumberGuesser numberGuesser = new NumberGuesserImpl()"
   ]
  },
  {
   "cell_type": "code",
   "execution_count": 53,
   "metadata": {},
   "outputs": [
    {
     "data": {
      "text/plain": [
       "7"
      ]
     },
     "execution_count": 53,
     "metadata": {},
     "output_type": "execute_result"
    }
   ],
   "source": [
    "numberGuesser.getNumber();"
   ]
  },
  {
   "cell_type": "code",
   "execution_count": 54,
   "metadata": {},
   "outputs": [
    {
     "data": {
      "text/plain": [
       "LEFT"
      ]
     },
     "execution_count": 54,
     "metadata": {},
     "output_type": "execute_result"
    }
   ],
   "source": [
    "numberGuesser.checkGuess(5, 4)"
   ]
  },
  {
   "cell_type": "code",
   "execution_count": 55,
   "metadata": {},
   "outputs": [
    {
     "data": {
      "text/plain": [
       "RIGHT"
      ]
     },
     "execution_count": 55,
     "metadata": {},
     "output_type": "execute_result"
    }
   ],
   "source": [
    "numberGuesser.checkGuess(5, 6)"
   ]
  },
  {
   "cell_type": "code",
   "execution_count": 56,
   "metadata": {},
   "outputs": [
    {
     "data": {
      "text/plain": [
       "CORRECT"
      ]
     },
     "execution_count": 56,
     "metadata": {},
     "output_type": "execute_result"
    }
   ],
   "source": [
    "numberGuesser.checkGuess(5, 5)"
   ]
  },
  {
   "cell_type": "markdown",
   "metadata": {},
   "source": [
    "Great, that works; no, let's write a REPL."
   ]
  },
  {
   "cell_type": "code",
   "execution_count": 57,
   "metadata": {},
   "outputs": [],
   "source": [
    "interface REPL<T> {\n",
    "    void setLib(T lib);\n",
    "    void startLoop();\n",
    "}"
   ]
  },
  {
   "cell_type": "code",
   "execution_count": 76,
   "metadata": {},
   "outputs": [],
   "source": [
    "class NumberGuesserREPL implements REPL<NumberGuesser> {\n",
    "    /* @Inject */ private NumberGuesser numberGuesser;\n",
    "    \n",
    "    @Override\n",
    "    public void setLib(NumberGuesser lib) {\n",
    "        numberGuesser = lib;\n",
    "    }\n",
    "    \n",
    "    @Override\n",
    "    public void startLoop() {\n",
    "        var done = false;\n",
    "        var target = numberGuesser.getNumber();\n",
    "        var tries = 5;\n",
    "        \n",
    "        while (!done) {\n",
    "            System.out.printf(\"NumberGuesser (%s attempts left)> \", tries);\n",
    "            \n",
    "            try (final var scanner = new Scanner(System.in)) {\n",
    "                var input = scanner.nextInt(10);\n",
    "                \n",
    "                try {\n",
    "                    var result = numberGuesser.checkGuess(target, input);\n",
    "                    \n",
    "                    final String msg;\n",
    "                    switch (result) {\n",
    "                        case LEFT:\n",
    "                            msg = \"To low\";\n",
    "                            break;\n",
    "                        case RIGHT:\n",
    "                            msg = \"To high\";\n",
    "                            break;\n",
    "                        default:\n",
    "                            msg = \"Correct\";\n",
    "                            \n",
    "                            done = true;\n",
    "                            \n",
    "                            break;\n",
    "                    }\n",
    "                    \n",
    "                    System.out.printf(\"<= %s\\n\", msg);\n",
    "                } catch (Exception e) {\n",
    "                    System.out.printf(\"Error: %s\\n\", e.getMessage());\n",
    "                }\n",
    "                \n",
    "                tries--;\n",
    "            }\n",
    "        }\n",
    "    }\n",
    "}"
   ]
  },
  {
   "cell_type": "code",
   "execution_count": 77,
   "metadata": {},
   "outputs": [],
   "source": [
    "REPL numberGuesserREPL = new NumberGuesserREPL()"
   ]
  },
  {
   "cell_type": "code",
   "execution_count": 78,
   "metadata": {},
   "outputs": [],
   "source": [
    "numberGuesserREPL.setLib(numberGuesser)"
   ]
  },
  {
   "cell_type": "code",
   "execution_count": 79,
   "metadata": {},
   "outputs": [
    {
     "name": "stdout",
     "output_type": "stream",
     "text": [
      "NumberGuesser (5 attempts left)> "
     ]
    },
    {
     "name": "stdin",
     "output_type": "stream",
     "text": [
      " 1\n"
     ]
    },
    {
     "name": "stdout",
     "output_type": "stream",
     "text": [
      "<= To low\n",
      "NumberGuesser (4 attempts left)> "
     ]
    },
    {
     "name": "stdin",
     "output_type": "stream",
     "text": [
      " 2\n"
     ]
    },
    {
     "name": "stdout",
     "output_type": "stream",
     "text": [
      "<= To low\n",
      "NumberGuesser (3 attempts left)> "
     ]
    },
    {
     "name": "stdin",
     "output_type": "stream",
     "text": [
      " 4\n"
     ]
    },
    {
     "name": "stdout",
     "output_type": "stream",
     "text": [
      "<= Correct\n"
     ]
    }
   ],
   "source": [
    "numberGuesserREPL.startLoop()"
   ]
  },
  {
   "cell_type": "code",
   "execution_count": null,
   "metadata": {},
   "outputs": [],
   "source": []
  }
 ],
 "metadata": {
  "kernelspec": {
   "display_name": "Java",
   "language": "java",
   "name": "java"
  },
  "language_info": {
   "codemirror_mode": "java",
   "file_extension": ".jshell",
   "mimetype": "text/x-java-source",
   "name": "Java",
   "pygments_lexer": "java",
   "version": "13.0.2+8"
  }
 },
 "nbformat": 4,
 "nbformat_minor": 4
}
