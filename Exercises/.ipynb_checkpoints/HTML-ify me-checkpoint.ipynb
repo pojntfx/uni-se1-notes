{
 "cells": [
  {
   "cell_type": "markdown",
   "metadata": {},
   "source": [
    "# HTML-ify me"
   ]
  },
  {
   "cell_type": "markdown",
   "metadata": {},
   "source": [
    "We want to have a HTML table for the square numbers."
   ]
  },
  {
   "cell_type": "code",
   "execution_count": 1,
   "metadata": {},
   "outputs": [],
   "source": [
    "interface SquareNumbersTableHTML {\n",
    "    String getTable(int upperLimit);\n",
    "}"
   ]
  },
  {
   "cell_type": "code",
   "execution_count": 64,
   "metadata": {},
   "outputs": [],
   "source": [
    "class SquareNumbersTableHTMLImpl implements SquareNumbersTableHTML {\n",
    "    private String getThead(String a, String b) {\n",
    "        return String.format(\"\\t\\t\\t<tr>\\n\\t\\t\\t\\t<th>%s</th>\\n\\t\\t\\t\\t<th>%s</th>\\n\\t\\t\\t</tr>\", a, b);\n",
    "    }\n",
    "    \n",
    "    private String getTrow(int a, int b) {\n",
    "        return String.format(\"\\t\\t\\t<tr>\\n\\t\\t\\t\\t<td>%s</td>\\n\\t\\t\\t\\t<td>%s</td>\\n\\t\\t\\t</tr>\", a, b);\n",
    "    }\n",
    "    \n",
    "    @Override\n",
    "    public String getTable(int upperLimit) {\n",
    "        var header = String.format(\"%s\\n%s\\n%s\", \"<!doctype html>\\n<html>\", \"<head>\\n\\t<title>A square table</title>\\n</head>\", \"\\t<body>\\n\\t\\t<table>\");\n",
    "        \n",
    "        var thead = getThead(\"n\", \"n * n\");\n",
    "        \n",
    "        var tbody = \"\";\n",
    "        for (var i = 0; i < upperLimit + 1; i++) {\n",
    "            tbody += String.format(\"%s%s\", getTrow(i, i * i), i == upperLimit ? \"\" : \"\\n\");\n",
    "        }\n",
    "              \n",
    "        var footer = String.format(\"%s\\n%s\", \"\\t\\t</table>\\n\\t</body>\", \"</html>\");\n",
    "        \n",
    "        return String.format(\"%s\\n%s\\n%s\\n%s\", header, thead, tbody, footer);\n",
    "    }\n",
    "}"
   ]
  },
  {
   "cell_type": "code",
   "execution_count": 65,
   "metadata": {},
   "outputs": [],
   "source": [
    "SquareNumbersTableHTML squareNumbersTableHTML = new SquareNumbersTableHTMLImpl()"
   ]
  },
  {
   "cell_type": "code",
   "execution_count": 66,
   "metadata": {},
   "outputs": [
    {
     "data": {
      "text/plain": [
       "<!doctype html>\n",
       "<html>\n",
       "<head>\n",
       "\t<title>A square table</title>\n",
       "</head>\n",
       "\t<body>\n",
       "\t\t<table>\n",
       "\t\t\t<tr>\n",
       "\t\t\t\t<th>n</th>\n",
       "\t\t\t\t<th>n * n</th>\n",
       "\t\t\t</tr>\n",
       "\t\t\t<tr>\n",
       "\t\t\t\t<td>0</td>\n",
       "\t\t\t\t<td>0</td>\n",
       "\t\t\t</tr>\n",
       "\t\t\t<tr>\n",
       "\t\t\t\t<td>1</td>\n",
       "\t\t\t\t<td>1</td>\n",
       "\t\t\t</tr>\n",
       "\t\t\t<tr>\n",
       "\t\t\t\t<td>2</td>\n",
       "\t\t\t\t<td>4</td>\n",
       "\t\t\t</tr>\n",
       "\t\t\t<tr>\n",
       "\t\t\t\t<td>3</td>\n",
       "\t\t\t\t<td>9</td>\n",
       "\t\t\t</tr>\n",
       "\t\t\t<tr>\n",
       "\t\t\t\t<td>4</td>\n",
       "\t\t\t\t<td>16</td>\n",
       "\t\t\t</tr>\n",
       "\t\t\t<tr>\n",
       "\t\t\t\t<td>5</td>\n",
       "\t\t\t\t<td>25</td>\n",
       "\t\t\t</tr>\n",
       "\t\t\t<tr>\n",
       "\t\t\t\t<td>6</td>\n",
       "\t\t\t\t<td>36</td>\n",
       "\t\t\t</tr>\n",
       "\t\t\t<tr>\n",
       "\t\t\t\t<td>7</td>\n",
       "\t\t\t\t<td>49</td>\n",
       "\t\t\t</tr>\n",
       "\t\t\t<tr>\n",
       "\t\t\t\t<td>8</td>\n",
       "\t\t\t\t<td>64</td>\n",
       "\t\t\t</tr>\n",
       "\t\t\t<tr>\n",
       "\t\t\t\t<td>9</td>\n",
       "\t\t\t\t<td>81</td>\n",
       "\t\t\t</tr>\n",
       "\t\t</table>\n",
       "\t</body>\n",
       "</html>"
      ]
     },
     "execution_count": 66,
     "metadata": {},
     "output_type": "execute_result"
    }
   ],
   "source": [
    "squareNumbersTableHTML.getTable(9)"
   ]
  },
  {
   "cell_type": "markdown",
   "metadata": {},
   "source": [
    "Let's take a look at the table in a browser:\n",
    "\n",
    "<!doctype html>\n",
    "<html>\n",
    "<head>\n",
    "\t<title>A square table</title>\n",
    "</head>\n",
    "\t<body>\n",
    "\t\t<table>\n",
    "\t\t\t<tr>\n",
    "\t\t\t\t<th>n</th>\n",
    "\t\t\t\t<th>n * n</th>\n",
    "\t\t\t</tr>\n",
    "\t\t\t<tr>\n",
    "\t\t\t\t<td>0</td>\n",
    "\t\t\t\t<td>0</td>\n",
    "\t\t\t</tr>\n",
    "\t\t\t<tr>\n",
    "\t\t\t\t<td>1</td>\n",
    "\t\t\t\t<td>1</td>\n",
    "\t\t\t</tr>\n",
    "\t\t\t<tr>\n",
    "\t\t\t\t<td>2</td>\n",
    "\t\t\t\t<td>4</td>\n",
    "\t\t\t</tr>\n",
    "\t\t\t<tr>\n",
    "\t\t\t\t<td>3</td>\n",
    "\t\t\t\t<td>9</td>\n",
    "\t\t\t</tr>\n",
    "\t\t\t<tr>\n",
    "\t\t\t\t<td>4</td>\n",
    "\t\t\t\t<td>16</td>\n",
    "\t\t\t</tr>\n",
    "\t\t\t<tr>\n",
    "\t\t\t\t<td>5</td>\n",
    "\t\t\t\t<td>25</td>\n",
    "\t\t\t</tr>\n",
    "\t\t\t<tr>\n",
    "\t\t\t\t<td>6</td>\n",
    "\t\t\t\t<td>36</td>\n",
    "\t\t\t</tr>\n",
    "\t\t\t<tr>\n",
    "\t\t\t\t<td>7</td>\n",
    "\t\t\t\t<td>49</td>\n",
    "\t\t\t</tr>\n",
    "\t\t\t<tr>\n",
    "\t\t\t\t<td>8</td>\n",
    "\t\t\t\t<td>64</td>\n",
    "\t\t\t</tr>\n",
    "\t\t\t<tr>\n",
    "\t\t\t\t<td>9</td>\n",
    "\t\t\t\t<td>81</td>\n",
    "\t\t\t</tr>\n",
    "\t\t</table>\n",
    "\t</body>\n",
    "</html>"
   ]
  }
 ],
 "metadata": {
  "kernelspec": {
   "display_name": "Java",
   "language": "java",
   "name": "java"
  },
  "language_info": {
   "codemirror_mode": "java",
   "file_extension": ".jshell",
   "mimetype": "text/x-java-source",
   "name": "Java",
   "pygments_lexer": "java",
   "version": "13.0.2+8"
  }
 },
 "nbformat": 4,
 "nbformat_minor": 4
}
