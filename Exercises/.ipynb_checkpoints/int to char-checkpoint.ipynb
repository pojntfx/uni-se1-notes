{
 "cells": [
  {
   "cell_type": "markdown",
   "metadata": {},
   "source": [
    "# `int` to `char` narrowing problems"
   ]
  },
  {
   "cell_type": "code",
   "execution_count": 4,
   "metadata": {},
   "outputs": [
    {
     "ename": "CompilationException",
     "evalue": "",
     "output_type": "error",
     "traceback": [
      "\u001b[1m\u001b[30m|   \u001b[1m\u001b[30mchar c = \u001b[0m\u001b[1m\u001b[30m\u001b[41mi\u001b[0m\u001b[1m\u001b[30m;\u001b[0m",
      "\u001b[1m\u001b[31mincompatible types: possible lossy conversion from int to char\u001b[0m",
      ""
     ]
    }
   ],
   "source": [
    "int i = 65;\n",
    "char c = i;"
   ]
  },
  {
   "cell_type": "markdown",
   "metadata": {},
   "source": [
    "`i` might change and thus be greater than `Character.MAX_VALUE`."
   ]
  },
  {
   "cell_type": "code",
   "execution_count": 11,
   "metadata": {},
   "outputs": [],
   "source": [
    "class Test {\n",
    "    static void test() {\n",
    "        final int i = 65;\n",
    "        final char c = i;\n",
    "    }\n",
    "}"
   ]
  },
  {
   "cell_type": "code",
   "execution_count": 14,
   "metadata": {},
   "outputs": [],
   "source": [
    "Test.test()"
   ]
  },
  {
   "cell_type": "markdown",
   "metadata": {},
   "source": [
    "As one can see, the `final` modifier fixes this."
   ]
  }
 ],
 "metadata": {
  "kernelspec": {
   "display_name": "Java",
   "language": "java",
   "name": "java"
  },
  "language_info": {
   "codemirror_mode": "java",
   "file_extension": ".jshell",
   "mimetype": "text/x-java-source",
   "name": "Java",
   "pygments_lexer": "java",
   "version": "13.0.2+8"
  }
 },
 "nbformat": 4,
 "nbformat_minor": 4
}
