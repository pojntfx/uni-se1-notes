{
 "cells": [
  {
   "cell_type": "markdown",
   "metadata": {},
   "source": [
    "# A Basic Square Number Table"
   ]
  },
  {
   "cell_type": "markdown",
   "metadata": {},
   "source": [
    "We should print a table like such:\n",
    "\n",
    "```plaintext\n",
    "n | n * n\n",
    "--+------\n",
    "0 | 0\n",
    "1 | 1\n",
    "2 | 4\n",
    "3 | 9\n",
    "4 | 16\n",
    "5 | 25\n",
    "6 | 36\n",
    "7 | 49\n",
    "8 | 64\n",
    "9 | 81\n",
    "```\n",
    "\n",
    "Let's implement this!"
   ]
  },
  {
   "cell_type": "code",
   "execution_count": 2,
   "metadata": {},
   "outputs": [],
   "source": [
    "interface SquareNumberTable {\n",
    "    String getTable(int upperLimit);\n",
    "}"
   ]
  },
  {
   "cell_type": "code",
   "execution_count": 40,
   "metadata": {},
   "outputs": [],
   "source": [
    "class SquareNumberTableImpl implements SquareNumberTable {\n",
    "    public String getTable(int upperLimit) {\n",
    "        var header = \"n | n * n\\n--+------\";\n",
    "        \n",
    "        var bodyParts = new ArrayList<String>();\n",
    "        for (int i = 0; i < upperLimit + 1; i++) {\n",
    "            bodyParts.add(String.format(\"%s | %d%s\", i, i * i, i == upperLimit ? \"\" : \"\\n\"));\n",
    "        }\n",
    "        \n",
    "        return String.format(\"%s\\n%s\\n\", header, String.join(\"\", bodyParts));\n",
    "    }\n",
    "}"
   ]
  },
  {
   "cell_type": "code",
   "execution_count": 41,
   "metadata": {},
   "outputs": [],
   "source": [
    "SquareNumberTable squareNumberTable = new SquareNumberTableImpl()"
   ]
  },
  {
   "cell_type": "code",
   "execution_count": 42,
   "metadata": {},
   "outputs": [
    {
     "data": {
      "text/plain": [
       "n | n * n\n",
       "--+------\n",
       "0 | 0\n",
       "1 | 1\n",
       "2 | 4\n",
       "3 | 9\n",
       "4 | 16\n",
       "5 | 25\n",
       "6 | 36\n",
       "7 | 49\n",
       "8 | 64\n",
       "9 | 81\n"
      ]
     },
     "execution_count": 42,
     "metadata": {},
     "output_type": "execute_result"
    }
   ],
   "source": [
    "squareNumberTable.getTable(9)"
   ]
  }
 ],
 "metadata": {
  "kernelspec": {
   "display_name": "Java",
   "language": "java",
   "name": "java"
  },
  "language_info": {
   "codemirror_mode": "java",
   "file_extension": ".jshell",
   "mimetype": "text/x-java-source",
   "name": "Java",
   "pygments_lexer": "java",
   "version": "13.0.2+8"
  }
 },
 "nbformat": 4,
 "nbformat_minor": 4
}
